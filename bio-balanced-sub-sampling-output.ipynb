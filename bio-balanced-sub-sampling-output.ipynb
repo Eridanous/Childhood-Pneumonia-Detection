{
 "cells": [
  {
   "cell_type": "code",
   "execution_count": 1,
   "metadata": {
    "_cell_guid": "b1076dfc-b9ad-4769-8c92-a6c4dae69d19",
    "_uuid": "8f2839f25d086af736a60e9eeb907d3b93b6e0e5"
   },
   "outputs": [
    {
     "name": "stderr",
     "output_type": "stream",
     "text": [
      "Using TensorFlow backend.\n"
     ]
    }
   ],
   "source": [
    "import pandas as pd\n",
    "import numpy as np\n",
    "import matplotlib.pyplot as plt\n",
    "import seaborn as sns\n",
    "import cv2\n",
    "import os\n",
    "import random\n",
    "import keras\n",
    "from keras.models import Sequential\n",
    "from keras.layers import Conv2D,Dense,Flatten,Dropout,MaxPooling2D, ZeroPadding2D\n",
    "from keras.preprocessing.image import ImageDataGenerator\n",
    "from keras.callbacks import ReduceLROnPlateau\n",
    "from keras.callbacks import ModelCheckpoint, LearningRateScheduler, EarlyStopping\n",
    "\n",
    "from keras.optimizers import Adam, SGD, RMSprop #For Optimizing the Neural Network\n",
    "\n",
    "from imblearn.keras import balanced_batch_generator\n",
    "\n",
    "from sklearn.metrics import classification_report, confusion_matrix,balanced_accuracy_score\n",
    "import math\n",
    "\n",
    "from PIL import Image\n",
    "from PIL import Image, ImageEnhance \n",
    "import glob\n",
    "%matplotlib inline"
   ]
  },
  {
   "cell_type": "code",
   "execution_count": 2,
   "metadata": {
    "_cell_guid": "79c7e3d0-c299-4dcb-8224-4455121ee9b0",
    "_uuid": "d629ff2d2480ee46fbb7e2d37f6b5fab8052498a"
   },
   "outputs": [],
   "source": [
    "total_images_train = os.listdir('../input/chest-xray-pneumonia/chest_xray/chest_xray/train/PNEUMONIA/')\n",
    "\n",
    "image_height = 200#250\n",
    "image_width = 400#250\n",
    "batch_size = 10\n",
    "no_of_epochs  = 25\n",
    "train_percentage, test_percentage = 0.9, 0.05\n",
    "\n",
    "fewimages = False"
   ]
  },
  {
   "cell_type": "code",
   "execution_count": 3,
   "metadata": {},
   "outputs": [
    {
     "name": "stdout",
     "output_type": "stream",
     "text": [
      "['train', 'test', 'val', '.DS_Store']\n"
     ]
    }
   ],
   "source": [
    "print(os.listdir('../input/chest-xray-pneumonia/chest_xray/chest_xray/'))"
   ]
  },
  {
   "cell_type": "code",
   "execution_count": 4,
   "metadata": {},
   "outputs": [],
   "source": [
    "model1 = Sequential()\n",
    "model1.add(Conv2D(32,(3,3),input_shape=(image_height,image_width,3),activation='relu'))\n",
    "model1.add(Conv2D(32,(3,3),activation='relu'))\n",
    "model1.add(MaxPooling2D(pool_size=(2,2)))\n",
    "model1.add(Dropout(0.2))\n",
    "model1.add(Conv2D(64,(3,3),activation='relu'))  # 5\n",
    "model1.add(Conv2D(64,(3,3),activation='relu'))  # 6\n",
    "model1.add(MaxPooling2D(pool_size=(2,2)))\n",
    "model1.add(Dropout(0.2))\n",
    "model1.add(Conv2D(128,(3,3),activation='relu'))\n",
    "model1.add(Conv2D(128,(3,3),activation='relu'))\n",
    "model1.add(MaxPooling2D(pool_size=(2,2)))\n",
    "model1.add(Dropout(0.2))\n",
    "model1.add(Flatten())\n",
    "model1.add(Dense(units=128,activation='relu'))\n",
    "model1.add(Dropout(0.2))\n",
    "model1.add(Dense(units=1,activation='sigmoid'))\n",
    "model1.compile(optimizer='adam', loss='binary_crossentropy', metrics=['accuracy'])\n",
    "\n",
    "\n",
    "\n",
    "\n",
    "\n",
    "model2 = Sequential()\n",
    "model2.add(Conv2D(32,(3,3),input_shape=(image_height,image_width,3),activation='relu'))\n",
    "model2.add(Conv2D(32,(3,3),activation='relu'))\n",
    "model2.add(MaxPooling2D(pool_size=(2,2)))\n",
    "model2.add(Dropout(0.2))\n",
    "model2.add(Conv2D(64,(3,3),activation='relu'))  # 5\n",
    "model2.add(Conv2D(64,(3,3),activation='relu'))  # 6\n",
    "model2.add(MaxPooling2D(pool_size=(2,2)))\n",
    "model2.add(Dropout(0.2))\n",
    "model2.add(Conv2D(128,(3,3),activation='relu'))\n",
    "model2.add(Conv2D(128,(3,3),activation='relu'))\n",
    "model2.add(MaxPooling2D(pool_size=(2,2)))\n",
    "model2.add(Dropout(0.2))\n",
    "model2.add(Flatten())\n",
    "model2.add(Dense(units=128,activation='relu'))\n",
    "model2.add(Dropout(0.2))\n",
    "model2.add(Dense(units=1,activation='sigmoid'))\n",
    "model2.compile(optimizer='adam', loss='binary_crossentropy', metrics=['accuracy'])"
   ]
  },
  {
   "cell_type": "code",
   "execution_count": 5,
   "metadata": {},
   "outputs": [],
   "source": [
    "# model.load_weights('../input/bio-chest-x-ray-paper-simple-cnn/best_weights.hdf5')\n",
    "\n",
    "# from keras.utils.vis_utils import plot_model\n",
    "# # plot_model(model, to_file='vgg.png')\n",
    "# plot_model(model)"
   ]
  },
  {
   "cell_type": "code",
   "execution_count": 6,
   "metadata": {},
   "outputs": [],
   "source": [
    "data = '../input/chest-xray-pneumonia/chest_xray/chest_xray'"
   ]
  },
  {
   "cell_type": "code",
   "execution_count": 7,
   "metadata": {},
   "outputs": [
    {
     "name": "stdout",
     "output_type": "stream",
     "text": [
      "Total: 4273 Bac: 2780 Vir: 1493\n",
      "All files = 4273\n",
      "Train: 3845 Test: 215 Validation: 213\n",
      "Labels: 3845 215 213\n"
     ]
    }
   ],
   "source": [
    "# With Validation\n",
    "bac, vir = 0,0\n",
    "files_paths_all = sorted(glob.glob(data + '/*/PNEUMONIA/*'))\n",
    "if fewimages : files_paths_all = files_paths_all[0:100]\n",
    "labels_all = []\n",
    "for file in files_paths_all:\n",
    "    temp = file.split('/')[-1]\n",
    "    if ('bacteria' in temp): \n",
    "        bac += 1\n",
    "        labels_all.append(0) # bac = 0\n",
    "    elif ('virus' in temp): \n",
    "        vir += 1\n",
    "        labels_all.append(1) # virus = 1\n",
    "    else: labels_all.append('error')\n",
    "if ('error' in labels_all): print('Error creating labels!')\n",
    "\n",
    "print('Total:', len(labels_all), 'Bac:', bac, 'Vir:', vir)\n",
    "\n",
    "from sklearn.model_selection import train_test_split\n",
    "\n",
    "def train_test_val_split(files_paths_all, labels_all, train_perc=0.7, test_perc=0.2, rand_seed = 42):\n",
    "    val_perc = 1-(train_perc + test_perc)\n",
    "    train_paths, temp_paths, train_labels, temp_labels = train_test_split(files_paths_all, labels_all, train_size=train_perc, random_state=rand_seed)\n",
    "    new_test_perc = 1/(1+val_perc/test_perc)\n",
    "    val_paths, test_paths, val_labels, test_labels = train_test_split(temp_paths, temp_labels, test_size=new_test_perc, random_state=rand_seed)\n",
    "    return(train_paths, test_paths, val_paths, train_labels, test_labels, val_labels)\n",
    "\n",
    "\n",
    "train_paths, test_paths, val_paths, train_labels, test_labels, val_labels = train_test_val_split(\n",
    "    files_paths_all, labels_all, train_percentage, test_percentage)\n",
    "\n",
    "print('All files =',len(files_paths_all))    \n",
    "print('Train:',len(train_paths),'Test:', len(test_paths),'Validation:', len(val_paths))\n",
    "print('Labels:', len(train_labels), len(test_labels), len(val_labels))"
   ]
  },
  {
   "cell_type": "code",
   "execution_count": 8,
   "metadata": {},
   "outputs": [],
   "source": [
    "df = pd.DataFrame(train_paths)\n",
    "df.to_csv('train_paths.csv', index=False)\n",
    "\n",
    "df = pd.DataFrame(test_paths)\n",
    "df.to_csv('test_paths.csv', index=False)\n",
    "\n",
    "df = pd.DataFrame(val_paths)\n",
    "df.to_csv('val_paths.csv', index=False)\n",
    "\n",
    "df = pd.DataFrame(train_labels)\n",
    "df.to_csv('train_labels.csv', index=False)\n",
    "\n",
    "df = pd.DataFrame(test_labels)\n",
    "df.to_csv('test_labels.csv', index=False)\n",
    "\n",
    "df = pd.DataFrame(val_labels)\n",
    "df.to_csv('val_labels.csv', index=False)"
   ]
  },
  {
   "cell_type": "code",
   "execution_count": 9,
   "metadata": {},
   "outputs": [],
   "source": [
    "# if WithValidation == False:\n",
    "#     bac, vir = 0,0\n",
    "#     train_labels_all = []\n",
    "#     train_files_paths_all = sorted(glob.glob(data + '/train/PNEUMONIA/*'))\n",
    "#     # train_files_paths_all = train_files_paths_all[25:50]\n",
    "#     for file in train_files_paths_all:\n",
    "#         temp = file.split('/')[-1]\n",
    "#         if ('bacteria' in temp): \n",
    "#             bac += 1\n",
    "#             train_labels_all.append(0) # bac = 0\n",
    "#         elif ('virus' in temp): \n",
    "#             vir += 1\n",
    "#             train_labels_all.append(1) # virus = 1\n",
    "#         else: train_labels_all.append('error')\n",
    "\n",
    "#     tbac, tvir = 0,0\n",
    "#     test_labels = []\n",
    "#     test_files_paths = sorted(glob.glob(data + '/test/PNEUMONIA/*'))\n",
    "#     # test_files_paths = test_files_paths[25:50]\n",
    "#     for file in test_files_paths:\n",
    "#         temp = file.split('/')[-1]\n",
    "#         if ('bacteria' in temp): \n",
    "#             tbac += 1\n",
    "#             test_labels.append(0) # bac = 0\n",
    "#         elif ('virus' in temp): \n",
    "#             tvir += 1\n",
    "#             test_labels.append(1) # virus = 1\n",
    "#         else: test_labels.append('error')\n",
    "\n",
    "#     if ('error' in train_labels_all or 'error' in test_labels): print('Error creating labels!')\n",
    "#     else: print('Labels created successfully!')\n",
    "\n",
    "#     print()    \n",
    "#     print('Train set')        \n",
    "#     print('Total =',len(train_labels_all),', Bac = ',bac,', Vir =',vir)\n",
    "\n",
    "#     print('Test set')        \n",
    "#     print('Total =',len(test_labels),', Bac = ',tbac,', Vir =',tvir)\n"
   ]
  },
  {
   "cell_type": "code",
   "execution_count": 10,
   "metadata": {},
   "outputs": [],
   "source": [
    "# Balanced sub sampling\n",
    "\n",
    "maxvir, maxbac = min(vir,bac), min(vir,bac)\n",
    "uvir, ubac = 0,0\n",
    "keep1, keep2 = [], []\n",
    "\n",
    "# https://stackoverflow.com/questions/47742622/np-random-permutation-with-seed\n",
    "rand = list(np.random.RandomState(seed=42).permutation(len(train_labels)))\n",
    "for i in rand:\n",
    "    lab = train_labels[i]\n",
    "    if lab == 0: # bac\n",
    "        ubac +=1        \n",
    "        if ubac <= maxbac: keep1.append(i)\n",
    "    elif lab == 1: # vir\n",
    "        uvir +=1        \n",
    "        if uvir <= maxvir: keep1.append(i)\n",
    "\n",
    "uvir, ubac = 0,0            \n",
    "for i in rand[::-1]:\n",
    "    lab = train_labels[i]\n",
    "    if lab == 0: # bac\n",
    "        ubac +=1        \n",
    "        if ubac <= maxbac: keep2.append(i)\n",
    "    elif lab == 1: # vir\n",
    "        uvir +=1        \n",
    "        if uvir <= maxvir: keep2.append(i)\n",
    "            \n",
    "            \n",
    "train_labels1, train_files_paths1, train_labels2, train_files_paths2 = [], [], [], []\n",
    "for i in keep1:\n",
    "    train_labels1.append(train_labels[i])\n",
    "    train_files_paths1.append(train_paths[i])\n",
    "for i in keep2:\n",
    "    train_labels2.append(train_labels[i])\n",
    "    train_files_paths2.append(train_paths[i])\n",
    "    "
   ]
  },
  {
   "cell_type": "code",
   "execution_count": 11,
   "metadata": {},
   "outputs": [
    {
     "name": "stdout",
     "output_type": "stream",
     "text": [
      "Train set1\n",
      "Total = 2820 , Bac =  1493 , Vir = 1327\n",
      "Train set2\n",
      "Total = 2820 , Bac =  1493 , Vir = 1327\n",
      "Test set\n",
      "Total = 215 , Bac =  128 , Vir = 87\n",
      "Validation set\n",
      "Total = 213 , Bac =  134 , Vir = 79\n"
     ]
    }
   ],
   "source": [
    "bac,vir = 0,0\n",
    "for i in train_labels1:\n",
    "    if i == 0: bac+=1\n",
    "    else: vir+=1\n",
    "\n",
    "print('Train set1')        \n",
    "print('Total =',len(train_labels1),', Bac = ',bac,', Vir =',vir)\n",
    "\n",
    "bac,vir = 0,0\n",
    "for i in train_labels2:\n",
    "    if i == 0: bac+=1\n",
    "    else: vir+=1\n",
    "print('Train set2')        \n",
    "print('Total =',len(train_labels2),', Bac = ',bac,', Vir =',vir)\n",
    "\n",
    "\n",
    "tbac,tvir = 0,0\n",
    "for i in test_labels:\n",
    "    if i == 0: tbac+=1\n",
    "    else: tvir+=1\n",
    "print('Test set')\n",
    "print('Total =',len(test_labels),', Bac = ',tbac,', Vir =',tvir)\n",
    "\n",
    "vbac,vvir = 0,0\n",
    "for i in val_labels:\n",
    "    if i == 0: vbac+=1\n",
    "    else: vvir+=1\n",
    "print('Validation set')\n",
    "print('Total =',len(val_labels),', Bac = ',vbac,', Vir =',vvir)"
   ]
  },
  {
   "cell_type": "code",
   "execution_count": 12,
   "metadata": {},
   "outputs": [],
   "source": [
    "train_steps1 = math.ceil(len(train_labels1)/batch_size)\n",
    "train_steps2 = math.ceil(len(train_labels2)/batch_size)\n",
    "val_steps = math.ceil(len(val_labels)/batch_size)"
   ]
  },
  {
   "cell_type": "code",
   "execution_count": 13,
   "metadata": {},
   "outputs": [],
   "source": [
    "def change_contrast(img, level):\n",
    "    factor = (259 * (level + 255)) / (255 * (259 - level))\n",
    "    def contrast(c):\n",
    "        return 128 + factor * (c - 128)\n",
    "    return img.point(contrast)\n",
    "\n",
    "\n",
    "def img_prepro(imgpath, editreport = False):\n",
    "    oimg = cv2.imread(imgpath)\n",
    "    edits = []\n",
    "\n",
    "    #Crop\n",
    "    x,y=oimg.shape[0:2]\n",
    "    if y>x: \n",
    "        start, end = (y-x)//2, y - (y-x)//2\n",
    "        crimg = oimg[:,start:end,:]\n",
    "        edits.append(('crop',0,start)) # ('crop',dx,dy)\n",
    "\n",
    "    else:  \n",
    "        start, end = (x-y)//2, x - (x-y)//2\n",
    "        crimg = oimg[start:end,:,:]\n",
    "        edits.append(('crop',start,0))\n",
    "\n",
    "    #Crop\n",
    "    c0,c1 = crimg.shape[0:2]\n",
    "    x0,x1 = int(c0*(0.5-0.3)), int(c0*(0.5+0.3)) # ypsos\n",
    "    y0,y1 = 0,c1\n",
    "    vis = crimg[x0:x1,y0:y1,:]\n",
    "    edits.append(('crop',x0,y0)) # ('crop',dx,dy)\n",
    "\n",
    "    # plt.imshow(vis)\n",
    "\n",
    "    # Resize\n",
    "    prev_height, prev_width = vis.shape[0:2]\n",
    "    img2 = cv2.resize(vis, (image_width, image_height))\n",
    "    edits.append(('resize', image_width, image_height, prev_width, prev_height))\n",
    "\n",
    "#     plt.imshow(img2)\n",
    "\n",
    "    if editreport == True: return(edits) \n",
    "    else:\n",
    "        # Contrast\n",
    "        temp = Image.fromarray(img2)\n",
    "        res = change_contrast(temp, 100)\n",
    "        res = np.array(res)\n",
    "        img = res.astype(np.float32)/255\n",
    "        return img\n"
   ]
  },
  {
   "cell_type": "code",
   "execution_count": 14,
   "metadata": {},
   "outputs": [
    {
     "name": "stdout",
     "output_type": "stream",
     "text": [
      "Load 1 Complete\n",
      "Load 2 Complete\n"
     ]
    }
   ],
   "source": [
    "# Load Data\n",
    "train_files1, val_files = [], []\n",
    "for file in train_files_paths1:\n",
    "    train_files1.append(img_prepro(imgpath=file, editreport = False))\n",
    "print(\"Load 1 Complete\")\n",
    "\n",
    "train_files2 = []\n",
    "for file in train_files_paths2:\n",
    "    train_files2.append(img_prepro(imgpath=file, editreport = False))\n",
    "print(\"Load 2 Complete\")    \n",
    "\n",
    "for file in val_paths:\n",
    "    val_files.append(img_prepro(imgpath=file, editreport = False))\n",
    "\n",
    "train_files1 = np.array(train_files1)\n",
    "train_files2 = np.array(train_files2)\n",
    "val_files = np.array(val_files)\n"
   ]
  },
  {
   "cell_type": "code",
   "execution_count": 15,
   "metadata": {},
   "outputs": [],
   "source": [
    "# Data Augmentation\n",
    "train_datagen = ImageDataGenerator(####rescale=1./255,\n",
    "#                                    rotation_range=15,\n",
    "#                                    shear_range=0.2,\n",
    "#                                    zoom_range=0.2    \n",
    "                                   rotation_range=10,\n",
    "                                   shear_range=0.01,\n",
    "#                                    zoom_range=0.1\n",
    "                                   )\n",
    "\n",
    "val_datagen = ImageDataGenerator()#rescale=1./255)\n"
   ]
  },
  {
   "cell_type": "code",
   "execution_count": 16,
   "metadata": {},
   "outputs": [],
   "source": [
    "checkpointer1 = ModelCheckpoint(filepath=\"best_weights1.hdf5\", \n",
    "                               monitor = 'val_accuracy',\n",
    "                               verbose=1, \n",
    "                               save_best_only=True)\n",
    "\n",
    "checkpointer2 = ModelCheckpoint(filepath=\"best_weights2.hdf5\", \n",
    "                               monitor = 'val_accuracy',\n",
    "                               verbose=1, \n",
    "                               save_best_only=True)"
   ]
  },
  {
   "cell_type": "code",
   "execution_count": 17,
   "metadata": {},
   "outputs": [],
   "source": [
    "def lr_schedule(epoch):\n",
    "    lr = 0.0001\n",
    "    if epoch >= 10: #10\n",
    "        lr *= 0.5\n",
    "    elif epoch > 30:\n",
    "        lr *= 0.2\n",
    "    print('Learning rate: ', lr)\n",
    "    return lr\n",
    "\n",
    "\n",
    "lr_scheduler = LearningRateScheduler(lr_schedule)\n",
    "\n",
    "lr_reducer = ReduceLROnPlateau(factor=np.sqrt(0.1),\n",
    "                               cooldown=0,\n",
    "                               patience=5,\n",
    "                               min_lr=0.5e-6)\n",
    "\n",
    "callbacks1 = [lr_reducer, lr_scheduler, checkpointer1]\n",
    "callbacks2 = [lr_reducer, lr_scheduler, checkpointer2]"
   ]
  },
  {
   "cell_type": "code",
   "execution_count": 18,
   "metadata": {},
   "outputs": [],
   "source": [
    "training_set1 = train_datagen.flow(train_files1, train_labels1, batch_size=batch_size)\n",
    "training_set2 = train_datagen.flow(train_files2, train_labels2, batch_size=batch_size)\n",
    "\n",
    "\n",
    "val_set = val_datagen.flow(val_files, val_labels, batch_size=batch_size)"
   ]
  },
  {
   "cell_type": "code",
   "execution_count": 19,
   "metadata": {},
   "outputs": [
    {
     "name": "stdout",
     "output_type": "stream",
     "text": [
      "Epoch 1/25\n",
      "Learning rate:  0.0001\n",
      "282/282 [==============================] - 46s 164ms/step - loss: 0.6942 - accuracy: 0.5369 - val_loss: 0.6898 - val_accuracy: 0.6479\n",
      "\n",
      "Epoch 00001: val_accuracy improved from -inf to 0.64789, saving model to best_weights1.hdf5\n",
      "Epoch 2/25\n",
      "Learning rate:  0.0001\n",
      "282/282 [==============================] - 44s 157ms/step - loss: 0.6783 - accuracy: 0.5915 - val_loss: 0.5263 - val_accuracy: 0.6620\n",
      "\n",
      "Epoch 00002: val_accuracy improved from 0.64789 to 0.66197, saving model to best_weights1.hdf5\n",
      "Epoch 3/25\n",
      "Learning rate:  0.0001\n",
      "282/282 [==============================] - 45s 159ms/step - loss: 0.6590 - accuracy: 0.6230 - val_loss: 0.7113 - val_accuracy: 0.6150\n",
      "\n",
      "Epoch 00003: val_accuracy did not improve from 0.66197\n",
      "Epoch 4/25\n",
      "Learning rate:  0.0001\n",
      "282/282 [==============================] - 44s 155ms/step - loss: 0.6435 - accuracy: 0.6454 - val_loss: 0.7929 - val_accuracy: 0.7230\n",
      "\n",
      "Epoch 00004: val_accuracy improved from 0.66197 to 0.72300, saving model to best_weights1.hdf5\n",
      "Epoch 5/25\n",
      "Learning rate:  0.0001\n",
      "282/282 [==============================] - 45s 160ms/step - loss: 0.6245 - accuracy: 0.6610 - val_loss: 0.5021 - val_accuracy: 0.7371\n",
      "\n",
      "Epoch 00005: val_accuracy improved from 0.72300 to 0.73709, saving model to best_weights1.hdf5\n",
      "Epoch 6/25\n",
      "Learning rate:  0.0001\n",
      "282/282 [==============================] - 44s 157ms/step - loss: 0.6138 - accuracy: 0.6720 - val_loss: 0.5835 - val_accuracy: 0.6948\n",
      "\n",
      "Epoch 00006: val_accuracy did not improve from 0.73709\n",
      "Epoch 7/25\n",
      "Learning rate:  0.0001\n",
      "282/282 [==============================] - 44s 157ms/step - loss: 0.6015 - accuracy: 0.6798 - val_loss: 0.3645 - val_accuracy: 0.7512\n",
      "\n",
      "Epoch 00007: val_accuracy improved from 0.73709 to 0.75117, saving model to best_weights1.hdf5\n",
      "Epoch 8/25\n",
      "Learning rate:  0.0001\n",
      "282/282 [==============================] - 44s 157ms/step - loss: 0.5914 - accuracy: 0.6968 - val_loss: 0.5410 - val_accuracy: 0.7277\n",
      "\n",
      "Epoch 00008: val_accuracy did not improve from 0.75117\n",
      "Epoch 9/25\n",
      "Learning rate:  0.0001\n",
      "282/282 [==============================] - 44s 157ms/step - loss: 0.5870 - accuracy: 0.6926 - val_loss: 0.3804 - val_accuracy: 0.7465\n",
      "\n",
      "Epoch 00009: val_accuracy did not improve from 0.75117\n",
      "Epoch 10/25\n",
      "Learning rate:  0.0001\n",
      "282/282 [==============================] - 44s 154ms/step - loss: 0.5764 - accuracy: 0.7128 - val_loss: 0.8580 - val_accuracy: 0.7559\n",
      "\n",
      "Epoch 00010: val_accuracy improved from 0.75117 to 0.75587, saving model to best_weights1.hdf5\n",
      "Epoch 11/25\n",
      "Learning rate:  5e-05\n",
      "282/282 [==============================] - 44s 158ms/step - loss: 0.5510 - accuracy: 0.7248 - val_loss: 0.4539 - val_accuracy: 0.7418\n",
      "\n",
      "Epoch 00011: val_accuracy did not improve from 0.75587\n",
      "Epoch 12/25\n",
      "Learning rate:  5e-05\n",
      "282/282 [==============================] - 44s 156ms/step - loss: 0.5459 - accuracy: 0.7241 - val_loss: 0.4353 - val_accuracy: 0.7512\n",
      "\n",
      "Epoch 00012: val_accuracy did not improve from 0.75587\n",
      "Epoch 13/25\n",
      "Learning rate:  5e-05\n",
      "282/282 [==============================] - 44s 157ms/step - loss: 0.5409 - accuracy: 0.7383 - val_loss: 0.3693 - val_accuracy: 0.7277\n",
      "\n",
      "Epoch 00013: val_accuracy did not improve from 0.75587\n",
      "Epoch 14/25\n",
      "Learning rate:  5e-05\n",
      "282/282 [==============================] - 45s 160ms/step - loss: 0.5384 - accuracy: 0.7287 - val_loss: 0.2494 - val_accuracy: 0.7559\n",
      "\n",
      "Epoch 00014: val_accuracy did not improve from 0.75587\n",
      "Epoch 15/25\n",
      "Learning rate:  5e-05\n",
      "282/282 [==============================] - 45s 160ms/step - loss: 0.5309 - accuracy: 0.7443 - val_loss: 0.3135 - val_accuracy: 0.7324\n",
      "\n",
      "Epoch 00015: val_accuracy did not improve from 0.75587\n",
      "Epoch 16/25\n",
      "Learning rate:  5e-05\n",
      "282/282 [==============================] - 45s 159ms/step - loss: 0.5295 - accuracy: 0.7479 - val_loss: 0.8906 - val_accuracy: 0.7183\n",
      "\n",
      "Epoch 00016: val_accuracy did not improve from 0.75587\n",
      "Epoch 17/25\n",
      "Learning rate:  5e-05\n",
      "282/282 [==============================] - 44s 157ms/step - loss: 0.5182 - accuracy: 0.7500 - val_loss: 1.3837 - val_accuracy: 0.7418\n",
      "\n",
      "Epoch 00017: val_accuracy did not improve from 0.75587\n",
      "Epoch 18/25\n",
      "Learning rate:  5e-05\n",
      "282/282 [==============================] - 44s 155ms/step - loss: 0.5076 - accuracy: 0.7567 - val_loss: 0.1194 - val_accuracy: 0.7512\n",
      "\n",
      "Epoch 00018: val_accuracy did not improve from 0.75587\n",
      "Epoch 19/25\n",
      "Learning rate:  5e-05\n",
      "282/282 [==============================] - 44s 156ms/step - loss: 0.5054 - accuracy: 0.7613 - val_loss: 2.2765 - val_accuracy: 0.7371\n",
      "\n",
      "Epoch 00019: val_accuracy did not improve from 0.75587\n",
      "Epoch 20/25\n",
      "Learning rate:  5e-05\n",
      "282/282 [==============================] - 43s 153ms/step - loss: 0.4975 - accuracy: 0.7610 - val_loss: 0.3063 - val_accuracy: 0.7230\n",
      "\n",
      "Epoch 00020: val_accuracy did not improve from 0.75587\n",
      "Epoch 21/25\n",
      "Learning rate:  5e-05\n",
      "282/282 [==============================] - 44s 155ms/step - loss: 0.5055 - accuracy: 0.7514 - val_loss: 0.7589 - val_accuracy: 0.7277\n",
      "\n",
      "Epoch 00021: val_accuracy did not improve from 0.75587\n",
      "Epoch 22/25\n",
      "Learning rate:  5e-05\n",
      "282/282 [==============================] - 43s 153ms/step - loss: 0.4856 - accuracy: 0.7745 - val_loss: 0.8202 - val_accuracy: 0.7559\n",
      "\n",
      "Epoch 00022: val_accuracy did not improve from 0.75587\n",
      "Epoch 23/25\n",
      "Learning rate:  5e-05\n",
      "282/282 [==============================] - 43s 154ms/step - loss: 0.4777 - accuracy: 0.7766 - val_loss: 0.3511 - val_accuracy: 0.7512\n",
      "\n",
      "Epoch 00023: val_accuracy did not improve from 0.75587\n",
      "Epoch 24/25\n",
      "Learning rate:  5e-05\n",
      "282/282 [==============================] - 44s 156ms/step - loss: 0.4779 - accuracy: 0.7801 - val_loss: 0.5654 - val_accuracy: 0.7559\n",
      "\n",
      "Epoch 00024: val_accuracy did not improve from 0.75587\n",
      "Epoch 25/25\n",
      "Learning rate:  5e-05\n",
      "282/282 [==============================] - 43s 154ms/step - loss: 0.4595 - accuracy: 0.7734 - val_loss: 0.7729 - val_accuracy: 0.7606\n",
      "\n",
      "Epoch 00025: val_accuracy improved from 0.75587 to 0.76056, saving model to best_weights1.hdf5\n"
     ]
    }
   ],
   "source": [
    "history1 = model1.fit_generator(training_set1, \n",
    "                              validation_data= val_set ,\n",
    "                               steps_per_epoch= train_steps1, epochs=no_of_epochs,\n",
    "                              validation_steps=val_steps,\n",
    "#                               class_weight=class_weights, # for imbalanced!!!!!!!!!!!!!!\n",
    "                               callbacks=callbacks1) "
   ]
  },
  {
   "cell_type": "code",
   "execution_count": 20,
   "metadata": {},
   "outputs": [
    {
     "name": "stdout",
     "output_type": "stream",
     "text": [
      "Epoch 1/25\n",
      "Learning rate:  0.0001\n",
      "282/282 [==============================] - 45s 158ms/step - loss: 0.6899 - accuracy: 0.5493 - val_loss: 0.6460 - val_accuracy: 0.6291\n",
      "\n",
      "Epoch 00001: val_accuracy improved from -inf to 0.62911, saving model to best_weights2.hdf5\n",
      "Epoch 2/25\n",
      "Learning rate:  0.0001\n",
      "282/282 [==============================] - 44s 155ms/step - loss: 0.6722 - accuracy: 0.5936 - val_loss: 0.7659 - val_accuracy: 0.6854\n",
      "\n",
      "Epoch 00002: val_accuracy improved from 0.62911 to 0.68545, saving model to best_weights2.hdf5\n",
      "Epoch 3/25\n",
      "Learning rate:  0.0001\n",
      "282/282 [==============================] - 44s 155ms/step - loss: 0.6534 - accuracy: 0.6262 - val_loss: 0.5640 - val_accuracy: 0.6573\n",
      "\n",
      "Epoch 00003: val_accuracy did not improve from 0.68545\n",
      "Epoch 4/25\n",
      "Learning rate:  0.0001\n",
      "282/282 [==============================] - 44s 155ms/step - loss: 0.6321 - accuracy: 0.6468 - val_loss: 0.8017 - val_accuracy: 0.6948\n",
      "\n",
      "Epoch 00004: val_accuracy improved from 0.68545 to 0.69484, saving model to best_weights2.hdf5\n",
      "Epoch 5/25\n",
      "Learning rate:  0.0001\n",
      "282/282 [==============================] - 45s 158ms/step - loss: 0.6258 - accuracy: 0.6645 - val_loss: 0.5257 - val_accuracy: 0.6948\n",
      "\n",
      "Epoch 00005: val_accuracy did not improve from 0.69484\n",
      "Epoch 6/25\n",
      "Learning rate:  0.0001\n",
      "282/282 [==============================] - 44s 156ms/step - loss: 0.6097 - accuracy: 0.6674 - val_loss: 1.0231 - val_accuracy: 0.6808\n",
      "\n",
      "Epoch 00006: val_accuracy did not improve from 0.69484\n",
      "Epoch 7/25\n",
      "Learning rate:  0.0001\n",
      "282/282 [==============================] - 44s 155ms/step - loss: 0.6061 - accuracy: 0.6787 - val_loss: 0.8895 - val_accuracy: 0.7042\n",
      "\n",
      "Epoch 00007: val_accuracy improved from 0.69484 to 0.70423, saving model to best_weights2.hdf5\n",
      "Epoch 8/25\n",
      "Learning rate:  0.0001\n",
      "282/282 [==============================] - 45s 159ms/step - loss: 0.5941 - accuracy: 0.6858 - val_loss: 1.0975 - val_accuracy: 0.6197\n",
      "\n",
      "Epoch 00008: val_accuracy did not improve from 0.70423\n",
      "Epoch 9/25\n",
      "Learning rate:  0.0001\n",
      "282/282 [==============================] - 43s 153ms/step - loss: 0.5816 - accuracy: 0.6918 - val_loss: 1.0233 - val_accuracy: 0.7559\n",
      "\n",
      "Epoch 00009: val_accuracy improved from 0.70423 to 0.75587, saving model to best_weights2.hdf5\n",
      "Epoch 10/25\n",
      "Learning rate:  0.0001\n",
      "282/282 [==============================] - 44s 156ms/step - loss: 0.5652 - accuracy: 0.7167 - val_loss: 0.8149 - val_accuracy: 0.7183\n",
      "\n",
      "Epoch 00010: val_accuracy did not improve from 0.75587\n",
      "Epoch 11/25\n",
      "Learning rate:  5e-05\n",
      "282/282 [==============================] - 43s 154ms/step - loss: 0.5538 - accuracy: 0.7241 - val_loss: 0.7385 - val_accuracy: 0.7089\n",
      "\n",
      "Epoch 00011: val_accuracy did not improve from 0.75587\n",
      "Epoch 12/25\n",
      "Learning rate:  5e-05\n",
      "282/282 [==============================] - 43s 154ms/step - loss: 0.5423 - accuracy: 0.7234 - val_loss: 0.3744 - val_accuracy: 0.7512\n",
      "\n",
      "Epoch 00012: val_accuracy did not improve from 0.75587\n",
      "Epoch 13/25\n",
      "Learning rate:  5e-05\n",
      "282/282 [==============================] - 43s 154ms/step - loss: 0.5325 - accuracy: 0.7376 - val_loss: 0.5274 - val_accuracy: 0.7089\n",
      "\n",
      "Epoch 00013: val_accuracy did not improve from 0.75587\n",
      "Epoch 14/25\n",
      "Learning rate:  5e-05\n",
      "282/282 [==============================] - 44s 156ms/step - loss: 0.5269 - accuracy: 0.7457 - val_loss: 0.8626 - val_accuracy: 0.7559\n",
      "\n",
      "Epoch 00014: val_accuracy did not improve from 0.75587\n",
      "Epoch 15/25\n",
      "Learning rate:  5e-05\n",
      "282/282 [==============================] - 43s 153ms/step - loss: 0.5169 - accuracy: 0.7390 - val_loss: 0.6336 - val_accuracy: 0.7183\n",
      "\n",
      "Epoch 00015: val_accuracy did not improve from 0.75587\n",
      "Epoch 16/25\n",
      "Learning rate:  5e-05\n",
      "282/282 [==============================] - 43s 154ms/step - loss: 0.5125 - accuracy: 0.7496 - val_loss: 0.6160 - val_accuracy: 0.7277\n",
      "\n",
      "Epoch 00016: val_accuracy did not improve from 0.75587\n",
      "Epoch 17/25\n",
      "Learning rate:  5e-05\n",
      "282/282 [==============================] - 43s 154ms/step - loss: 0.4919 - accuracy: 0.7596 - val_loss: 0.4703 - val_accuracy: 0.7136\n",
      "\n",
      "Epoch 00017: val_accuracy did not improve from 0.75587\n",
      "Epoch 18/25\n",
      "Learning rate:  5e-05\n",
      "282/282 [==============================] - 43s 154ms/step - loss: 0.4983 - accuracy: 0.7571 - val_loss: 1.3699 - val_accuracy: 0.7042\n",
      "\n",
      "Epoch 00018: val_accuracy did not improve from 0.75587\n",
      "Epoch 19/25\n",
      "Learning rate:  5e-05\n",
      "282/282 [==============================] - 44s 155ms/step - loss: 0.4860 - accuracy: 0.7674 - val_loss: 0.9588 - val_accuracy: 0.6854\n",
      "\n",
      "Epoch 00019: val_accuracy did not improve from 0.75587\n",
      "Epoch 20/25\n",
      "Learning rate:  5e-05\n",
      "282/282 [==============================] - 44s 155ms/step - loss: 0.4799 - accuracy: 0.7734 - val_loss: 0.2686 - val_accuracy: 0.7136\n",
      "\n",
      "Epoch 00020: val_accuracy did not improve from 0.75587\n",
      "Epoch 21/25\n",
      "Learning rate:  5e-05\n",
      "282/282 [==============================] - 44s 156ms/step - loss: 0.4725 - accuracy: 0.7770 - val_loss: 0.2725 - val_accuracy: 0.6901\n",
      "\n",
      "Epoch 00021: val_accuracy did not improve from 0.75587\n",
      "Epoch 22/25\n",
      "Learning rate:  5e-05\n",
      "282/282 [==============================] - 44s 156ms/step - loss: 0.4548 - accuracy: 0.7787 - val_loss: 0.5062 - val_accuracy: 0.7136\n",
      "\n",
      "Epoch 00022: val_accuracy did not improve from 0.75587\n",
      "Epoch 23/25\n",
      "Learning rate:  5e-05\n",
      "282/282 [==============================] - 44s 155ms/step - loss: 0.4452 - accuracy: 0.7933 - val_loss: 0.2774 - val_accuracy: 0.7136\n",
      "\n",
      "Epoch 00023: val_accuracy did not improve from 0.75587\n",
      "Epoch 24/25\n",
      "Learning rate:  5e-05\n",
      "282/282 [==============================] - 44s 156ms/step - loss: 0.4385 - accuracy: 0.7876 - val_loss: 0.3543 - val_accuracy: 0.7371\n",
      "\n",
      "Epoch 00024: val_accuracy did not improve from 0.75587\n",
      "Epoch 25/25\n",
      "Learning rate:  5e-05\n",
      "282/282 [==============================] - 43s 154ms/step - loss: 0.4280 - accuracy: 0.7943 - val_loss: 0.4635 - val_accuracy: 0.7418\n",
      "\n",
      "Epoch 00025: val_accuracy did not improve from 0.75587\n"
     ]
    }
   ],
   "source": [
    "history2 = model2.fit_generator(training_set2, \n",
    "#                                validation_data=(val_files,val_labels) ,\n",
    "                              validation_data= val_set ,\n",
    "                               steps_per_epoch= train_steps2, epochs=no_of_epochs,\n",
    "                              validation_steps=val_steps,\n",
    "#                               class_weight=class_weights, # for imbalanced!!!!!!!!!!!!!!\n",
    "                               callbacks=callbacks2) "
   ]
  },
  {
   "cell_type": "code",
   "execution_count": 21,
   "metadata": {},
   "outputs": [
    {
     "data": {
      "image/png": "[encoded data removed]",
      "text/plain": [
       "<Figure size 432x288 with 1 Axes>"
      ]
     },
     "metadata": {
      "needs_background": "light"
     },
     "output_type": "display_data"
    }
   ],
   "source": [
    "# summarize history for accuracy\n",
    "plt.plot(history1.history['accuracy'])\n",
    "plt.plot(history1.history['val_accuracy'])\n",
    "plt.title('model accuracy')\n",
    "plt.ylabel('accuracy')\n",
    "plt.xlabel('epoch')\n",
    "plt.legend(['train', 'test'], loc='best')\n",
    "plt.show()"
   ]
  },
  {
   "cell_type": "code",
   "execution_count": 22,
   "metadata": {},
   "outputs": [
    {
     "data": {
      "image/png": "[encoded data removed]",
      "text/plain": [
       "<Figure size 432x288 with 1 Axes>"
      ]
     },
     "metadata": {
      "needs_background": "light"
     },
     "output_type": "display_data"
    }
   ],
   "source": [
    "# summarize history for loss\n",
    "plt.plot(history1.history['loss'])\n",
    "plt.plot(history1.history['val_loss'])\n",
    "plt.title('model loss')\n",
    "plt.ylabel('loss')\n",
    "plt.xlabel('epoch')\n",
    "plt.legend(['train', 'test'], loc='best')\n",
    "plt.show()"
   ]
  },
  {
   "cell_type": "code",
   "execution_count": 23,
   "metadata": {},
   "outputs": [
    {
     "data": {
      "image/png": "[encoded data removed]",
      "text/plain": [
       "<Figure size 432x288 with 1 Axes>"
      ]
     },
     "metadata": {
      "needs_background": "light"
     },
     "output_type": "display_data"
    }
   ],
   "source": [
    "# summarize history for accuracy\n",
    "plt.plot(history2.history['accuracy'])\n",
    "plt.plot(history2.history['val_accuracy'])\n",
    "plt.title('model accuracy')\n",
    "plt.ylabel('accuracy')\n",
    "plt.xlabel('epoch')\n",
    "plt.legend(['train', 'test'], loc='best')\n",
    "plt.show()"
   ]
  },
  {
   "cell_type": "code",
   "execution_count": 24,
   "metadata": {},
   "outputs": [
    {
     "data": {
      "image/png": "[encoded data removed]",
      "text/plain": [
       "<Figure size 432x288 with 1 Axes>"
      ]
     },
     "metadata": {
      "needs_background": "light"
     },
     "output_type": "display_data"
    }
   ],
   "source": [
    "# summarize history for loss\n",
    "plt.plot(history2.history['loss'])\n",
    "plt.plot(history2.history['val_loss'])\n",
    "plt.title('model loss')\n",
    "plt.ylabel('loss')\n",
    "plt.xlabel('epoch')\n",
    "plt.legend(['train', 'test'], loc='best')\n",
    "plt.show()"
   ]
  },
  {
   "cell_type": "code",
   "execution_count": null,
   "metadata": {},
   "outputs": [],
   "source": []
  },
  {
   "cell_type": "code",
   "execution_count": null,
   "metadata": {},
   "outputs": [],
   "source": []
  },
  {
   "cell_type": "code",
   "execution_count": null,
   "metadata": {},
   "outputs": [],
   "source": []
  },
  {
   "cell_type": "code",
   "execution_count": 25,
   "metadata": {},
   "outputs": [],
   "source": [
    "# For predictions (not best)\n",
    "\n",
    "test_files = []\n",
    "for file in test_paths:\n",
    "    test_files.append(img_prepro(imgpath=file, editreport = False))\n",
    "test_files = np.array(test_files)\n",
    "\n",
    "pred_class1 = model1.predict_classes(test_files)\n",
    "pred_class2 = model1.predict_classes(test_files)\n",
    "\n",
    "pred_prob1 = model2.predict(test_files)\n",
    "pred_prob2 = model2.predict(test_files)"
   ]
  },
  {
   "cell_type": "code",
   "execution_count": 26,
   "metadata": {},
   "outputs": [],
   "source": [
    "# Final Predictions\n",
    "\n",
    "y_pred = pred_prob1.copy()\n",
    "\n",
    "for i in range(len(y_pred)):\n",
    "    confidence1 = abs(pred_prob1[i] - 0.5)\n",
    "    confidence2 = abs(pred_prob2[i] - 0.5)\n",
    "    if confidence1 > confidence2: y_pred[i] = pred_class1[i]\n",
    "    else: y_pred[i] = pred_class2[i]\n",
    "        "
   ]
  },
  {
   "cell_type": "code",
   "execution_count": 27,
   "metadata": {},
   "outputs": [
    {
     "name": "stdout",
     "output_type": "stream",
     "text": [
      "Confusion Matrix : \n",
      "\n"
     ]
    },
    {
     "data": {
      "image/png": "[encoded data removed]",
      "text/plain": [
       "<Figure size 648x648 with 2 Axes>"
      ]
     },
     "metadata": {
      "needs_background": "light"
     },
     "output_type": "display_data"
    }
   ],
   "source": [
    "print('Confusion Matrix : \\n')\n",
    "cm = confusion_matrix(test_labels, y_pred,labels = [1,0])\n",
    "fig, ax = plt.subplots()\n",
    "fig.set_size_inches(9,9)\n",
    "sns.heatmap(cm, annot=True, fmt=\".3f\", linewidths=.5, square = True, cmap = 'Blues_r');\n",
    "ax.set_ylabel('Actual label');\n",
    "ax.set_xlabel('Predicted label');\n",
    "target_names = ['Virus','Bacteria']\n",
    "ax.set_xticklabels(target_names)\n",
    "ax.set_yticklabels(target_names)\n",
    "accuracy = np.sum(test_labels == y_pred.T)/len(y_pred)\n",
    "ax.set_title('Accuracy Score: {}'.format(accuracy))\n",
    "fig.show()"
   ]
  },
  {
   "cell_type": "code",
   "execution_count": 28,
   "metadata": {},
   "outputs": [
    {
     "name": "stdout",
     "output_type": "stream",
     "text": [
      "Balanced Acc:\n",
      "0.7048760775862069\n"
     ]
    }
   ],
   "source": [
    "print('Balanced Acc:')\n",
    "print(balanced_accuracy_score(test_labels, y_pred))"
   ]
  },
  {
   "cell_type": "code",
   "execution_count": 29,
   "metadata": {},
   "outputs": [],
   "source": [
    "# AOC needs confidence!!!!!!!!!!!!!!"
   ]
  }
 ],
 "metadata": {
  "kernelspec": {
   "display_name": "Python 3",
   "language": "python",
   "name": "python3"
  },
  "language_info": {
   "codemirror_mode": {
    "name": "ipython",
    "version": 3
   },
   "file_extension": ".py",
   "mimetype": "text/x-python",
   "name": "python",
   "nbconvert_exporter": "python",
   "pygments_lexer": "ipython3",
   "version": "3.6.6"
  }
 },
 "nbformat": 4,
 "nbformat_minor": 1
}
