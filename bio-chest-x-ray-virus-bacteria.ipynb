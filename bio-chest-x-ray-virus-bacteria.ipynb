{
 "cells": [
  {
   "cell_type": "code",
   "execution_count": 1,
   "metadata": {
    "_cell_guid": "b1076dfc-b9ad-4769-8c92-a6c4dae69d19",
    "_uuid": "8f2839f25d086af736a60e9eeb907d3b93b6e0e5"
   },
   "outputs": [
    {
     "name": "stderr",
     "output_type": "stream",
     "text": [
      "Using TensorFlow backend.\n"
     ]
    }
   ],
   "source": [
    "import pandas as pd\n",
    "import numpy as np\n",
    "import matplotlib.pyplot as plt\n",
    "import seaborn as sns\n",
    "import cv2\n",
    "import os\n",
    "import random\n",
    "import keras\n",
    "from keras.models import Sequential\n",
    "from keras.layers import Conv2D,Dense,Flatten,Dropout,MaxPooling2D, ZeroPadding2D\n",
    "from keras.preprocessing.image import ImageDataGenerator\n",
    "from keras.callbacks import ReduceLROnPlateau\n",
    "from keras.callbacks import ModelCheckpoint, LearningRateScheduler, EarlyStopping\n",
    "\n",
    "from keras.optimizers import Adam, SGD, RMSprop #For Optimizing the Neural Network\n",
    "\n",
    "from PIL import Image\n",
    "from PIL import Image, ImageEnhance \n",
    "import glob\n",
    "%matplotlib inline"
   ]
  },
  {
   "cell_type": "code",
   "execution_count": 2,
   "metadata": {
    "_cell_guid": "79c7e3d0-c299-4dcb-8224-4455121ee9b0",
    "_uuid": "d629ff2d2480ee46fbb7e2d37f6b5fab8052498a"
   },
   "outputs": [],
   "source": [
    "total_images_train = os.listdir('../input/chest_xray/chest_xray/train/PNEUMONIA/')"
   ]
  },
  {
   "cell_type": "code",
   "execution_count": 3,
   "metadata": {},
   "outputs": [],
   "source": [
    "image_height = 250\n",
    "image_width = 250\n",
    "batch_size = 10\n",
    "no_of_epochs  = 2"
   ]
  },
  {
   "cell_type": "code",
   "execution_count": 4,
   "metadata": {},
   "outputs": [
    {
     "name": "stdout",
     "output_type": "stream",
     "text": [
      "WARNING:tensorflow:From /opt/conda/lib/python3.6/site-packages/tensorflow/python/framework/op_def_library.py:263: colocate_with (from tensorflow.python.framework.ops) is deprecated and will be removed in a future version.\n",
      "Instructions for updating:\n",
      "Colocations handled automatically by placer.\n",
      "WARNING:tensorflow:From /opt/conda/lib/python3.6/site-packages/keras/backend/tensorflow_backend.py:3445: calling dropout (from tensorflow.python.ops.nn_ops) with keep_prob is deprecated and will be removed in a future version.\n",
      "Instructions for updating:\n",
      "Please use `rate` instead of `keep_prob`. Rate should be set to `rate = 1 - keep_prob`.\n"
     ]
    }
   ],
   "source": [
    "model = Sequential()\n",
    "model.add(Conv2D(32,(3,3),input_shape=(image_height,image_width,3),activation='relu'))\n",
    "model.add(Conv2D(32,(3,3),activation='relu'))\n",
    "model.add(MaxPooling2D(pool_size=(2,2)))\n",
    "model.add(Dropout(0.2))\n",
    "model.add(Conv2D(64,(3,3),activation='relu'))\n",
    "model.add(Conv2D(64,(3,3),activation='relu'))\n",
    "model.add(MaxPooling2D(pool_size=(2,2)))\n",
    "model.add(Dropout(0.2))\n",
    "model.add(Conv2D(128,(3,3),activation='relu'))\n",
    "model.add(Conv2D(128,(3,3),activation='relu'))\n",
    "model.add(MaxPooling2D(pool_size=(2,2)))\n",
    "model.add(Dropout(0.2))\n",
    "model.add(Flatten())\n",
    "model.add(Dense(units=128,activation='relu'))\n",
    "model.add(Dropout(0.2))\n",
    "model.add(Dense(units=1,activation='sigmoid'))\n",
    "model.compile(optimizer='adam', loss='binary_crossentropy', metrics=['accuracy'])"
   ]
  },
  {
   "cell_type": "code",
   "execution_count": 5,
   "metadata": {},
   "outputs": [],
   "source": [
    "# #This is a Convolutional Artificial Neural Network\n",
    "# #VGG16 Model\n",
    "# model = Sequential()\n",
    "# model.add(ZeroPadding2D((1,1),input_shape=(image_height,image_width,3)))\n",
    "# model.add(Conv2D(64, (3, 3), activation='relu'))\n",
    "# model.add(ZeroPadding2D((1,1)))\n",
    "# model.add(Conv2D(64, (3, 3), activation='relu'))\n",
    "# model.add(MaxPooling2D((2,2), strides=(2,2)))\n",
    "\n",
    "# model.add(ZeroPadding2D((1,1)))\n",
    "# model.add(Conv2D(128, (3, 3), activation='relu'))\n",
    "# model.add(ZeroPadding2D((1,1)))\n",
    "# model.add(Conv2D(128, (3, 3), activation='relu'))\n",
    "# model.add(MaxPooling2D((2,2), strides=(2,2)))\n",
    "\n",
    "# model.add(ZeroPadding2D((1,1)))\n",
    "# model.add(Conv2D(256, (3, 3), activation='relu'))\n",
    "# model.add(ZeroPadding2D((1,1)))\n",
    "# model.add(Conv2D(256, (3, 3), activation='relu'))\n",
    "# model.add(ZeroPadding2D((1,1)))\n",
    "# model.add(Conv2D(256, (3, 3), activation='relu'))\n",
    "# model.add(MaxPooling2D((2,2), strides=(2,2)))\n",
    "\n",
    "# model.add(ZeroPadding2D((1,1)))\n",
    "# model.add(Conv2D(512, (3, 3), activation='relu'))\n",
    "# model.add(ZeroPadding2D((1,1)))\n",
    "# model.add(Conv2D(512, (3, 3), activation='relu'))\n",
    "# model.add(ZeroPadding2D((1,1)))\n",
    "# model.add(Conv2D(512, (3, 3), activation='relu'))\n",
    "# model.add(MaxPooling2D((2,2), strides=(2,2)))\n",
    "\n",
    "# model.add(ZeroPadding2D((1,1)))\n",
    "# model.add(Conv2D(512, (3, 3), activation='relu'))\n",
    "# model.add(ZeroPadding2D((1,1)))\n",
    "# model.add(Conv2D(512, (3, 3), activation='relu'))\n",
    "# model.add(ZeroPadding2D((1,1)))\n",
    "# model.add(Conv2D(512, (3, 3), activation='relu'))\n",
    "# model.add(MaxPooling2D((2,2), strides=(2,2)))\n",
    "\n",
    "# model.add(Flatten())\n",
    "# model.add(Dense(4096, activation='relu'))\n",
    "# model.add(Dropout(0.5))\n",
    "# model.add(Dense(4096, activation='relu'))\n",
    "# model.add(Dropout(0.5))\n",
    "# model.add(Dense(1, activation='softmax'))\n",
    "\n",
    "# # model.compile(optimizer='adam', loss='binary_crossentropy', metrics=['accuracy'])"
   ]
  },
  {
   "cell_type": "code",
   "execution_count": 6,
   "metadata": {},
   "outputs": [
    {
     "name": "stdout",
     "output_type": "stream",
     "text": [
      "_________________________________________________________________\n",
      "Layer (type)                 Output Shape              Param #   \n",
      "=================================================================\n",
      "conv2d_1 (Conv2D)            (None, 248, 248, 32)      896       \n",
      "_________________________________________________________________\n",
      "conv2d_2 (Conv2D)            (None, 246, 246, 32)      9248      \n",
      "_________________________________________________________________\n",
      "max_pooling2d_1 (MaxPooling2 (None, 123, 123, 32)      0         \n",
      "_________________________________________________________________\n",
      "dropout_1 (Dropout)          (None, 123, 123, 32)      0         \n",
      "_________________________________________________________________\n",
      "conv2d_3 (Conv2D)            (None, 121, 121, 64)      18496     \n",
      "_________________________________________________________________\n",
      "conv2d_4 (Conv2D)            (None, 119, 119, 64)      36928     \n",
      "_________________________________________________________________\n",
      "max_pooling2d_2 (MaxPooling2 (None, 59, 59, 64)        0         \n",
      "_________________________________________________________________\n",
      "dropout_2 (Dropout)          (None, 59, 59, 64)        0         \n",
      "_________________________________________________________________\n",
      "conv2d_5 (Conv2D)            (None, 57, 57, 128)       73856     \n",
      "_________________________________________________________________\n",
      "conv2d_6 (Conv2D)            (None, 55, 55, 128)       147584    \n",
      "_________________________________________________________________\n",
      "max_pooling2d_3 (MaxPooling2 (None, 27, 27, 128)       0         \n",
      "_________________________________________________________________\n",
      "dropout_3 (Dropout)          (None, 27, 27, 128)       0         \n",
      "_________________________________________________________________\n",
      "flatten_1 (Flatten)          (None, 93312)             0         \n",
      "_________________________________________________________________\n",
      "dense_1 (Dense)              (None, 128)               11944064  \n",
      "_________________________________________________________________\n",
      "dropout_4 (Dropout)          (None, 128)               0         \n",
      "_________________________________________________________________\n",
      "dense_2 (Dense)              (None, 1)                 129       \n",
      "=================================================================\n",
      "Total params: 12,231,201\n",
      "Trainable params: 12,231,201\n",
      "Non-trainable params: 0\n",
      "_________________________________________________________________\n"
     ]
    }
   ],
   "source": [
    "model.summary()"
   ]
  },
  {
   "cell_type": "code",
   "execution_count": 7,
   "metadata": {},
   "outputs": [],
   "source": [
    "# train_datagen = ImageDataGenerator(rescale=1./255,\n",
    "#                                    rotation_range=15,\n",
    "#                                    shear_range=0.2,\n",
    "#                                    zoom_range=0.2\n",
    "#                                    )\n",
    "\n",
    "# test_datagen = ImageDataGenerator(rescale=1./255)"
   ]
  },
  {
   "cell_type": "code",
   "execution_count": 8,
   "metadata": {},
   "outputs": [
    {
     "name": "stdout",
     "output_type": "stream",
     "text": [
      "Labels created successfully!\n"
     ]
    }
   ],
   "source": [
    "data = '../input/chest_xray/chest_xray'\n",
    "\n",
    "train_labels = []\n",
    "train_files_paths = sorted(glob.glob(data + '/train/PNEUMONIA/*'))\n",
    "# train_files_paths = train_files_paths[25:335]\n",
    "for file in train_files_paths:\n",
    "    temp = file.split('/')[-1]\n",
    "    if ('bacteria' in temp): train_labels.append(0) # bac = 0\n",
    "    elif ('virus' in temp): train_labels.append(1) # virus = 1\n",
    "    else: train_labels.append('error')\n",
    "            \n",
    "\n",
    "test_labels = []\n",
    "test_files_paths = sorted(glob.glob(data + '/test/PNEUMONIA/*'))\n",
    "# test_files_paths = test_files_paths[25:235]\n",
    "for file in test_files_paths:\n",
    "    temp = file.split('/')[-1]\n",
    "    if ('bacteria' in temp): test_labels.append(0) # bac = 1\n",
    "    elif ('virus' in temp): test_labels.append(1) # virus = 1\n",
    "    else: test_labels.append('error')\n",
    "        \n",
    "if ('error' in train_labels or 'error' in test_labels): print('Error creating labels!')\n",
    "else: print('Labels created successfully!')\n",
    "    "
   ]
  },
  {
   "cell_type": "code",
   "execution_count": 9,
   "metadata": {},
   "outputs": [
    {
     "name": "stdout",
     "output_type": "stream",
     "text": [
      "3875 2530 1345 3875\n",
      "Ligo Unbalanced\n"
     ]
    }
   ],
   "source": [
    "t = train_labels[0]\n",
    "c0,c1 = 0,0\n",
    "for i in train_labels:\n",
    "    if i == t: c0+=1\n",
    "    else: c1+=1\n",
    "        \n",
    "print(len(train_labels),c0,c1,c0+c1)\n",
    "print('Ligo Unbalanced')"
   ]
  },
  {
   "cell_type": "code",
   "execution_count": 10,
   "metadata": {},
   "outputs": [],
   "source": []
  },
  {
   "cell_type": "code",
   "execution_count": 10,
   "metadata": {},
   "outputs": [],
   "source": [
    "# # Load Data\n",
    "\n",
    "# train_files, test_files = [], []\n",
    "# for file in train_files_paths:\n",
    "#     img = cv2.imread(file)\n",
    "# #     img = np.array(img)\n",
    "#     img = cv2.resize(img, (image_width, image_height))\n",
    "#     img = img.astype(np.float32)/255\n",
    "#     train_files.append(img)\n",
    "    \n",
    "# for file in test_files_paths:\n",
    "#     img = cv2.imread(file)\n",
    "#     img = cv2.resize(img, (image_width, image_height))\n",
    "#     img = img.astype(np.float32)/255\n",
    "#     test_files.append(img)\n",
    "    \n",
    "# train_files = np.array(train_files)\n",
    "# test_files = np.array(test_files)\n"
   ]
  },
  {
   "cell_type": "code",
   "execution_count": 11,
   "metadata": {},
   "outputs": [],
   "source": [
    "def change_contrast(img, level):\n",
    "    factor = (259 * (level + 255)) / (255 * (259 - level))\n",
    "    def contrast(c):\n",
    "        return 128 + factor * (c - 128)\n",
    "    return img.point(contrast)"
   ]
  },
  {
   "cell_type": "code",
   "execution_count": 12,
   "metadata": {},
   "outputs": [],
   "source": [
    "# Load Data\n",
    "\n",
    "train_files, test_files = [], []\n",
    "for file in train_files_paths:\n",
    "    img = cv2.imread(file)\n",
    "\n",
    "    #Crop\n",
    "    y,x=img.shape[0:2]\n",
    "    if x>y: crimg = img[:,(x-y)//2:x - (x-y)//2,:]\n",
    "    else:  crimg = img[(y-x)//2:y - (y-x)//2,:,:]\n",
    "    c0,c1 = crimg.shape[0:2]\n",
    "    c0,c1 = c0//2,c1//2\n",
    "    crimg2 = crimg[:,:c0,:]\n",
    "    #Resize\n",
    "    img2 = cv2.resize(crimg2, (image_width, image_height))\n",
    "\n",
    "    #Contrast\n",
    "    temp = Image.fromarray(img2)\n",
    "    res = change_contrast(temp, 100)\n",
    "    res = np.array(res)\n",
    "    img = res.astype(np.float32)/255\n",
    "    train_files.append(img)\n",
    "    \n",
    "for file in test_files_paths:\n",
    "    img = cv2.imread(file)\n",
    "\n",
    "    #Crop\n",
    "    y,x=img.shape[0:2]\n",
    "    if x>y: crimg = img[:,(x-y)//2:x - (x-y)//2,:]\n",
    "    else:  crimg = img[(y-x)//2:y - (y-x)//2,:,:]\n",
    "    c0,c1 = crimg.shape[0:2]\n",
    "    c0,c1 = c0//2,c1//2\n",
    "    crimg2 = crimg[:,:c0,:]\n",
    "\n",
    "    #Resize\n",
    "    img2 = cv2.resize(crimg2, (image_width, image_height))\n",
    "\n",
    "\n",
    "    #Contrast\n",
    "    temp = Image.fromarray(img2)\n",
    "    res = change_contrast(temp, 100)\n",
    "    res = np.array(res)\n",
    "    img = res.astype(np.float32)/255\n",
    "    test_files.append(img)\n",
    "    \n",
    "    \n",
    "train_files = np.array(train_files)\n",
    "test_files = np.array(test_files)"
   ]
  },
  {
   "cell_type": "code",
   "execution_count": 13,
   "metadata": {},
   "outputs": [],
   "source": [
    "# fil = test_files_paths[27]\n",
    "# img = cv2.imread(fil)\n",
    "# y,x=img.shape[0:2]\n",
    "# if x>y: crimg = img[:,(x-y)//2:x - (x-y)//2,:]\n",
    "# else:  crimg = img[(y-x)//2:y - (y-x)//2,:,:]\n",
    "# c0,c1 = crimg.shape[0:2]\n",
    "# c0,c1 = c0//2,c1//2\n",
    "# crimg2 = crimg[:,:c0,:]\n",
    "# img2 = cv2.resize(crimg2, (image_width, image_height))\n",
    "# plt.imshow(img2)\n"
   ]
  },
  {
   "cell_type": "code",
   "execution_count": 14,
   "metadata": {},
   "outputs": [],
   "source": [
    "# plt.imshow(crimg)"
   ]
  },
  {
   "cell_type": "code",
   "execution_count": 15,
   "metadata": {},
   "outputs": [],
   "source": [
    "# plt.imshow(crimg2)"
   ]
  },
  {
   "cell_type": "code",
   "execution_count": 16,
   "metadata": {},
   "outputs": [],
   "source": [
    "\n",
    "# im = Image.open(fil)\n",
    "# # enhancer = ImageEnhance.Contrast(im)\n",
    "# enhancer = ImageEnhance.Brightness(im)\n",
    "# # enhancer = ImageEnhance.Sharpness(im)\n",
    "# enhanced_im = enhancer.enhance(1.0)\n",
    "# plt.imshow(enhanced_im)"
   ]
  },
  {
   "cell_type": "code",
   "execution_count": 17,
   "metadata": {},
   "outputs": [],
   "source": [
    "# for file in test_files_paths[10:11]:\n",
    "#     img = cv2.imread(file)\n",
    "#     y,x=img.shape[0:2]\n",
    "#     if x>y: crimg = img[:,(x-y)//2:x - (x-y)//2,:]\n",
    "#     else:  crimg = img[(x-y)//2:x - (x-y)//2,:,:]\n",
    "#     img2 = cv2.resize(crimg, (image_width, image_height))\n",
    "# plt.imshow(img)\n",
    "# print(img.shape)"
   ]
  },
  {
   "cell_type": "code",
   "execution_count": 18,
   "metadata": {},
   "outputs": [],
   "source": [
    "# plt.imshow(crimg)\n"
   ]
  },
  {
   "cell_type": "code",
   "execution_count": 19,
   "metadata": {},
   "outputs": [],
   "source": [
    "\n",
    "\n",
    "# def change_contrast(img, level):\n",
    "#     factor = (259 * (level + 255)) / (255 * (259 - level))\n",
    "#     def contrast(c):\n",
    "#         return 128 + factor * (c - 128)\n",
    "#     return img.point(contrast)\n",
    "\n",
    "# # change_contrast(Image.open('barry.png'), 100)\n",
    "# test = Image.fromarray(crimg)\n",
    "# change_contrast(test, 100)\n",
    "\n"
   ]
  },
  {
   "cell_type": "code",
   "execution_count": 20,
   "metadata": {},
   "outputs": [],
   "source": [
    "import scipy\n",
    "from scipy import ndimage\n",
    "# import matplotlib.pyplot as plt\n",
    "\n",
    "f = scipy.misc.face(gray=True).astype(float)\n",
    "blurred_f = ndimage.gaussian_filter(f, 3)\n",
    "\n",
    "filter_blurred_f = ndimage.gaussian_filter(blurred_f, 1)\n",
    "\n",
    "alpha = 30\n",
    "sharpened = blurred_f + alpha * (blurred_f - filter_blurred_f)\n"
   ]
  },
  {
   "cell_type": "code",
   "execution_count": 21,
   "metadata": {},
   "outputs": [],
   "source": [
    "# Data Augmentation\n",
    "train_datagen = ImageDataGenerator(#rescale=1./255,\n",
    "                                   rotation_range=15,\n",
    "                                   shear_range=0.2,\n",
    "                                   zoom_range=0.2\n",
    "                                   )\n",
    "\n",
    "test_datagen = ImageDataGenerator()#rescale=1./255)"
   ]
  },
  {
   "cell_type": "code",
   "execution_count": 22,
   "metadata": {},
   "outputs": [],
   "source": [
    "def lr_schedule(epoch):\n",
    "    lr = 0.0001\n",
    "    if epoch > 6:\n",
    "        lr *= 1e-1\n",
    "    elif epoch > 80:\n",
    "        lr = lr/100\n",
    "    print('Learning rate: ', lr)\n",
    "    return lr\n",
    "\n",
    "\n",
    "lr_scheduler = LearningRateScheduler(lr_schedule)\n",
    "\n",
    "lr_reducer = ReduceLROnPlateau(factor=np.sqrt(0.1),\n",
    "                               cooldown=0,\n",
    "                               patience=5,\n",
    "                               min_lr=0.5e-6)\n",
    "\n",
    "callbacks = [lr_reducer, lr_scheduler]"
   ]
  },
  {
   "cell_type": "code",
   "execution_count": 23,
   "metadata": {},
   "outputs": [],
   "source": [
    "# reduce_learning_rate = ReduceLROnPlateau(monitor='loss',\n",
    "#                                          factor=0.1,\n",
    "#                                          patience=2,\n",
    "#                                          cooldown=0,#2,\n",
    "#                                          min_lr=0.00001,\n",
    "#                                          verbose=1)\n",
    "\n",
    "# callbacks = [reduce_learning_rate]"
   ]
  },
  {
   "cell_type": "code",
   "execution_count": 24,
   "metadata": {},
   "outputs": [],
   "source": [
    "training_set = train_datagen.flow(train_files, train_labels, batch_size=batch_size)\n",
    "\n",
    "test_set = test_datagen.flow(test_files, test_labels, batch_size=batch_size)"
   ]
  },
  {
   "cell_type": "code",
   "execution_count": 25,
   "metadata": {},
   "outputs": [],
   "source": [
    "# optimizer = Adam(lr = 0.0001)\n",
    "# early_stopping_monitor = EarlyStopping(patience = 3, monitor = \"val_acc\", mode=\"max\", verbose = 2)\n",
    "# model.compile(loss=\"sparse_categorical_crossentropy\", metrics=[\"accuracy\"], optimizer=optimizer)\n",
    "# history = model.fit_generator(epochs=5, callbacks=[early_stopping_monitor], shuffle=True, validation_data=test_set, generator=training_set, steps_per_epoch=len(train_labels)//batch_size, validation_steps=len(test_labels)//batch_size,verbose=2)\n",
    "# # prediction = model.predict_generator(generator=train_batches, verbose=2, steps=100)"
   ]
  },
  {
   "cell_type": "code",
   "execution_count": 26,
   "metadata": {},
   "outputs": [
    {
     "name": "stdout",
     "output_type": "stream",
     "text": [
      "WARNING:tensorflow:From /opt/conda/lib/python3.6/site-packages/tensorflow/python/ops/math_ops.py:3066: to_int32 (from tensorflow.python.ops.math_ops) is deprecated and will be removed in a future version.\n",
      "Instructions for updating:\n",
      "Use tf.cast instead.\n",
      "Epoch 1/20\n",
      "Learning rate:  0.0001\n",
      "387/387 [==============================] - 49s 127ms/step - loss: 0.6421 - acc: 0.6535 - val_loss: 0.6028 - val_acc: 0.7410\n",
      "Epoch 2/20\n",
      "Learning rate:  0.0001\n",
      "387/387 [==============================] - 46s 118ms/step - loss: 0.6176 - acc: 0.6711 - val_loss: 0.5656 - val_acc: 0.7564\n",
      "Epoch 3/20\n",
      "Learning rate:  0.0001\n",
      "387/387 [==============================] - 46s 119ms/step - loss: 0.6007 - acc: 0.6956 - val_loss: 0.5631 - val_acc: 0.6564\n",
      "Epoch 4/20\n",
      "Learning rate:  0.0001\n",
      "387/387 [==============================] - 46s 118ms/step - loss: 0.5978 - acc: 0.7018 - val_loss: 0.5195 - val_acc: 0.8051\n",
      "Epoch 5/20\n",
      "Learning rate:  0.0001\n",
      "387/387 [==============================] - 46s 118ms/step - loss: 0.5893 - acc: 0.7041 - val_loss: 0.4941 - val_acc: 0.8205\n",
      "Epoch 6/20\n",
      "Learning rate:  0.0001\n",
      "387/387 [==============================] - 46s 119ms/step - loss: 0.5790 - acc: 0.7155 - val_loss: 0.4870 - val_acc: 0.8077\n",
      "Epoch 7/20\n",
      "Learning rate:  0.0001\n",
      "387/387 [==============================] - 46s 118ms/step - loss: 0.5738 - acc: 0.7181 - val_loss: 0.4720 - val_acc: 0.8103\n",
      "Epoch 8/20\n",
      "Learning rate:  1e-05\n",
      "387/387 [==============================] - 46s 119ms/step - loss: 0.5570 - acc: 0.7279 - val_loss: 0.4457 - val_acc: 0.8308\n",
      "Epoch 9/20\n",
      "Learning rate:  1e-05\n",
      "387/387 [==============================] - 46s 118ms/step - loss: 0.5574 - acc: 0.7315 - val_loss: 0.4388 - val_acc: 0.8385\n",
      "Epoch 10/20\n",
      "Learning rate:  1e-05\n",
      "387/387 [==============================] - 46s 118ms/step - loss: 0.5509 - acc: 0.7305 - val_loss: 0.4350 - val_acc: 0.8385\n",
      "Epoch 11/20\n",
      "Learning rate:  1e-05\n",
      "387/387 [==============================] - 46s 118ms/step - loss: 0.5487 - acc: 0.7279 - val_loss: 0.4318 - val_acc: 0.8513\n",
      "Epoch 12/20\n",
      "Learning rate:  1e-05\n",
      "387/387 [==============================] - 46s 118ms/step - loss: 0.5535 - acc: 0.7266 - val_loss: 0.4302 - val_acc: 0.8513\n",
      "Epoch 13/20\n",
      "Learning rate:  1e-05\n",
      "387/387 [==============================] - 46s 118ms/step - loss: 0.5467 - acc: 0.7344 - val_loss: 0.4353 - val_acc: 0.8538\n",
      "Epoch 14/20\n",
      "Learning rate:  1e-05\n",
      "387/387 [==============================] - 45s 117ms/step - loss: 0.5443 - acc: 0.7313 - val_loss: 0.4267 - val_acc: 0.8385\n",
      "Epoch 15/20\n",
      "Learning rate:  1e-05\n",
      "387/387 [==============================] - 46s 118ms/step - loss: 0.5421 - acc: 0.7375 - val_loss: 0.4281 - val_acc: 0.8359\n",
      "Epoch 16/20\n",
      "Learning rate:  1e-05\n",
      "127/387 [========>.....................] - ETA: 29s - loss: 0.5614 - acc: 0.7150"
     ]
    }
   ],
   "source": [
    "history = model.fit_generator(training_set, \n",
    "#                                validation_data=(test_files,test_labels) ,\n",
    "                              validation_data= test_set ,\n",
    "                               steps_per_epoch= len(train_labels)//batch_size, epochs=no_of_epochs*0+20,\n",
    "                              validation_steps=len(test_labels)//batch_size,\n",
    "                               callbacks=callbacks) "
   ]
  },
  {
   "cell_type": "code",
   "execution_count": 27,
   "metadata": {},
   "outputs": [],
   "source": [
    "# train_datagen.fit(train_files)\n",
    "# test_datagen.fit(test_files)\n",
    "# history = model.fit_generator(train_datagen.flow(train_files, train_labels, batch_size=batch_size,), \n",
    "# #                                validation_data=(test_files,test_labels) ,\n",
    "#                               validation_data= test_datagen.flow(test_files,test_labels) ,\n",
    "#                                steps_per_epoch= len(train_labels)//batch_size, epochs=2,\n",
    "#                               validation_steps=len(test_labels)//batch_size,\n",
    "#                                callbacks=callbacks) "
   ]
  }
 ],
 "metadata": {
  "kernelspec": {
   "display_name": "Python 3",
   "language": "python",
   "name": "python3"
  },
  "language_info": {
   "codemirror_mode": {
    "name": "ipython",
    "version": 3
   },
   "file_extension": ".py",
   "mimetype": "text/x-python",
   "name": "python",
   "nbconvert_exporter": "python",
   "pygments_lexer": "ipython3",
   "version": "3.6.4"
  }
 },
 "nbformat": 4,
 "nbformat_minor": 1
}
